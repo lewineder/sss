{
 "cells": [
  {
   "cell_type": "markdown",
   "metadata": {
    "pycharm": {
     "name": "#%% md\n"
    }
   },
   "source": [
    "<body style=\"font-family:courier;\">\n",
    "<h1>Kalibrierung und Einsatz eines Infrarot-Entfernungsmessers</h1>\n",
    "<body style=\"font-family:courier;\">\n",
    "<h3>Versuch 1, Praktikum Signale, Systeme und Sensoren</h3>"
   ]
  },
  {
   "cell_type": "markdown",
   "metadata": {
    "pycharm": {
     "name": "#%% md\n"
    }
   },
   "source": [
    "<body style=\"font-family:courier;\">\n",
    "<h3>Teil 1: Einlesen der Daten</h3>\n",
    "<pre>\n",
    "<body style=\"font-family:courier;\">\n",
    "Erstellen Sie eine Python-Funktion, welche die Daten aus der Datei einliest (verwenden Sie\n",
    "dazu die Numpy-Funktion genfromtxt()), von den Daten die ersten 1000 Werte überspringt\n",
    "und aus den nächsten Werten (nehmen Sie eine sinnvolle Anzahl von Messungen) den\n",
    "Mittelwert und die Standardabweichung berechnet (der Einschwingvorgang wird dadurch\n",
    "ignoriert).\n",
    "Vergleichen Sie die Ergebnisse mit den Werten aus ihrem Messprotokoll. Stellen\n",
    "Sie die gefundene Übertragungsfunktion bzw. Kennlinie im Protokoll graphisch mit Python\n",
    "bzw. Matplotlib dar.\n",
    "Beachten Sie bei dem Messverfahren, dass es dadurch, dass jeder Abstandswert nur einmal\n",
    "eingestellt wird, zu einer systematischen Unterschätzung des Messfehlers kommt. Eigentlich\n",
    "müsste in jeder Messung der Abstand mehrmals eingestellt werden, um zu einer realistischen\n",
    "Fehlerschätzung zu kommen.\n",
    "</pre>"
   ]
  },
  {
   "cell_type": "code",
   "execution_count": 1,
   "metadata": {
    "pycharm": {
     "name": "#%%\n"
    }
   },
   "outputs": [],
   "source": [
    "import numpy as np\n",
    "from io import StringIO\n",
    "\n",
    "distances = [13, 16, 19, 22, 25, 28, 31, 34, 37, 40,\n",
    "             43, 46, 49, 52, 55, 58, 61, 64, 67, 70]\n",
    "\n",
    "means = []\n",
    "stds  = []\n",
    "for idx, dist in enumerate(distances):\n",
    "\n",
    "    with open((\"data%d.csv\"%dist)) as file:\n",
    "        txt = file.read()\n",
    "\n",
    "        txt = txt.replace(\",\", \".\")\n",
    "        a = np.genfromtxt(StringIO(txt), skip_header=1000, delimiter=\";\", usecols=(1,))\n",
    "        means.append(np.mean(a))\n",
    "        stds.append( np.std (a))\n",
    "        logmeans = np.log(means)\n",
    "        logdist  = np.log(distances)"
   ]
  },
  {
   "cell_type": "code",
   "execution_count": 18,
   "metadata": {
    "pycharm": {
     "name": "#%%\n"
    }
   },
   "outputs": [
    {
     "data": {
      "text/plain": "[<matplotlib.lines.Line2D at 0x2604afe1a30>]"
     },
     "execution_count": 18,
     "metadata": {},
     "output_type": "execute_result"
    },
    {
     "data": {
      "text/plain": "<Figure size 432x288 with 2 Axes>",
      "image/png": "[encoded data removed]"
     },
     "metadata": {
      "needs_background": "light"
     },
     "output_type": "display_data"
    }
   ],
   "source": [
    "from matplotlib import pyplot as plt\n",
    "\n",
    "fig, axs = plt.subplots(2)\n",
    "axs[0].plot(distances, means)\n",
    "axs[1].plot(logdist, logmeans)"
   ]
  },
  {
   "cell_type": "markdown",
   "metadata": {
    "pycharm": {
     "name": "#%% md\n"
    }
   },
   "source": [
    "<body style=\"font-family:courier;\">\n",
    "<h3>Teil 2: Modellierung der Kennlinie durch lineare Regression</h3>\n",
    "<pre>\n",
    "<body style=\"font-family:courier;\">\n",
    "Um den Sensor als Abstandsmesser benutzen zu können, brauchen wir eine Umrechnungsvor-\n",
    "schrift, mit der wir aus den gemessenen Spannungswerten die zugehörigen Entfernungswerte\n",
    "berechnen können. Die in der Vorlesung vorgestellte Methode der linearen Regression funktio-\n",
    "niert für den Sharp-Sensor nicht, da es sich hier eindeutig um einen Sensor mit nichtlinearer\n",
    "Kennlinie handelt.\n",
    "Es gibt aber einen einfachen, häufig eingesetzten Trick, mit dem sich die\n",
    "lineare Regression auch bei allgemeinen nichtlinearen Kennlinien der Form\n",
    "                                    y = xa\n",
    "anwenden lässt: statt die Regression direkt auf den Werten x und y zu berechnen, werden\n",
    "Eingangs- und Ausgangswerte zunächst logarithmiert, d.h. wir erhalten neue Paare aus\n",
    "Eingangs- und Ausgangswerten\n",
    "        xÕ und y Õ mit y Õ = ln y und xÕ = ln x bzw. umgekehrt x = ex Õ.\n",
    "Setzt man beides in die Kennlinie ein, so ergibt sich\n",
    "            y Õ = ln y = ln(xa ) = a · ln x = a · ln(ex Õ) = a · xÕ\n",
    "d.h. nach der doppelten Logarithmierung ist die Kennlinie eine Gerade mit Steigung a. Die\n",
    "Parameter dieser Gerade können wir wiederum mit der linearen Regression schätzen.\n",
    "Sie erhalten aus der Regression die Parameter a und b für den Zusammenhang\n",
    "                            y Õ = a · xÕ + b.\n",
    "Die Rückrechnung auf den ursprünglichen Zusammenhang geschieht über die Umkehrung\n",
    "der doppelten Logarithmierung:\n",
    "                    y = exp(a · ln x + b) = eb · xa\n",
    "wobei x hier die Spannungsmessung und y die daraus resultierende Abstandsmessung darstellt.\n",
    "Damit haben wir die nichtlineare Kennlinie des Sensors gefunden.\n",
    "</pre>"
   ]
  },
  {
   "cell_type": "code",
   "execution_count": 19,
   "metadata": {
    "pycharm": {
     "name": "#%%\n"
    },
    "scrolled": true
   },
   "outputs": [
    {
     "data": {
      "text/plain": "<Figure size 432x288 with 2 Axes>",
      "image/png": "[encoded data removed]"
     },
     "metadata": {
      "needs_background": "light"
     },
     "output_type": "display_data"
    }
   ],
   "source": [
    "from matplotlib import pyplot as plt\n",
    "\n",
    "avgx = np.average(logdist)\n",
    "avgy = np.average(logmeans)\n",
    "d = np.zeros((20,2))\n",
    "for i in range(20):\n",
    "    d[i,0] = (logdist[i] - avgx) * (logmeans[i]- avgy)\n",
    "    d[i,1] = (logdist[i] - avgx)**2\n",
    "\n",
    "stg = np.sum(d[:,0])/np.sum(d[:,1])\n",
    "b = avgy - stg * avgx\n",
    "\n",
    "fig, axt = plt.subplots(2)\n",
    "\n",
    "kennliniey = np.exp(b) * distances ** stg\n",
    "axt[0].plot(distances, kennliniey,'c')\n",
    "axt[1].plot(logdist, stg*logdist + b,'c')\n",
    "\n",
    "plt.show()"
   ]
  },
  {
   "cell_type": "markdown",
   "metadata": {
    "pycharm": {
     "name": "#%% md\n"
    }
   },
   "source": [
    "<body style=\"font-family:courier;\">\n",
    "<h3>Teil 3: Flächenmessung mit Fehlerrechnung (a)</h3>\n",
    "<pre>\n",
    "<body style=\"font-family:courier;\">\n",
    "------------------------------------------------------------------------------------------\n",
    "Ermittlung des Messfehlers des Abstandsmessers: Die Kombination aus Sharp-Sensor,\n",
    "Oszilloskop und der gefundenen Kennlinie stellt eine Messeinrichtung für den Abstand\n",
    "eines Objektes dar. Durch die Kennlinie wird der Abstand nicht direkt ermittelt, sondern\n",
    "indirekt über eine Spannungsmessung. Zur Ermittlung des Messfehlers müssen wir also die\n",
    "Fehlerfortpflanzung durch die Kennlinie eb xa berechnen.\n",
    "Vorgehensweise:\n",
    "1. Stellen Sie das Zielobjekt im Abstand eines DIN-A4-Blattes (lange Seite) vom Sensor auf\n",
    "    und führen Sie eine einzige Messung aus und speichern Sie das Resultat als csv-Datei.\n",
    "2. Schätzen Sie den Messfehler nach der Methode aus der Vorlesung. Vergessen Sie\n",
    "    dabei nicht eine eventuelle Korrektur aufgrund der Anzahl von Messungen. Geben\n",
    "    Sie das Ergebnis Ihrer Spannungsmessung in der korrekten Form an. Wie groß ist der\n",
    "    Vertrauensbereich für eine Sicherheit von 68 % , wie groß für eine Sicherheit von 95 % ?\n",
    "3. Geben Sie nun das Ergebnis Ihrer Abstandsmessung in cm in korrekter Form an.\n",
    "    Benutzen sie dazu die Fehlerfortpflanzung.\n",
    "------------------------------------------------------------------------------------------\n",
    "</pre>"
   ]
  },
  {
   "cell_type": "code",
   "execution_count": 20,
   "outputs": [
    {
     "name": "stdout",
     "output_type": "stream",
     "text": [
      "Vertrauensbereich 68%, lange Seite\n",
      "x =  0.7407374857142858 +- 0.0037469891118386083\n",
      "\n",
      "Vertrauensbereich 95%, lange Seite\n",
      "x =  0.7407374857142858 +- 0.008422131489912468\n",
      "\n",
      "Länge des Blattes: 29.06080819971129 cm +- 0.22801246954083634 cm\n",
      "\n",
      "Vertrauensbereich 68%, kurze Seite\n",
      "x =  0.8926286571428573 +- 0.002911981714285708\n",
      "\n",
      "Vertrauensbereich 95%, kurze Seite\n",
      "x =  0.8926286571428573 +- 0.006545279999999986\n"
     ]
    },
    {
     "data": {
      "text/plain": "(0.8926286571428573, 0.006545279999999986)"
     },
     "execution_count": 20,
     "metadata": {},
     "output_type": "execute_result"
    }
   ],
   "source": [
    "import numpy as np\n",
    "from io import StringIO\n",
    "\n",
    "#Werte wurden verändert zu Aufgabe 2 (da x und y vertauscht)\n",
    "b = 2.903898918078259\n",
    "stg = -1.5510750149120942\n",
    "\n",
    "#Methode, um Messfehler zu schätzen\n",
    "def schaetzwert(vals, factor):\n",
    "    x_ = np.mean(vals) #Mittelwert\n",
    "    s = np.std(vals, ddof=1) #empirische STandardabweichung\n",
    "    sx = s / np.sqrt(len(vals)) #standardabweichung für den Mittelwert, gibt Vertrauensbereich an\n",
    "    dx = factor * sx\n",
    "    print(\"x = \", x_ , \"+-\", dx)\n",
    "    return x_, dx\n",
    "\n",
    "#Berechnung lange Seite\n",
    "with open((\"DinA4lang.csv\")) as file:\n",
    "    txt = file.read()\n",
    "\n",
    "    txt = txt.replace(\",\", \".\")\n",
    "    longvals = np.genfromtxt(StringIO(txt), skip_header=1000, delimiter=\";\", usecols=(1,))\n",
    "\n",
    "\n",
    "print(\"Vertrauensbereich 68%, lange Seite\")\n",
    "x_1,dx1 = schaetzwert(longvals, 1.09) #Vertrauensbereich 68% und n = 7\n",
    "print(\"\\nVertrauensbereich 95%, lange Seite\")\n",
    "schaetzwert(longvals, 2.45) #Vertraunsbereich 95% und n = 7\n",
    "\n",
    "#Fehlerfortpflanzung: Berechnung mit dy = f'(x) * dx\n",
    "ablf = stg * np.exp(b) * x_1 ** (stg - 1) # Ableitung von f(x) = e^b * x^a\n",
    "dylang = abs(ablf * dx1)\n",
    "ylang = np.exp(b) * x_1 ** stg\n",
    "print(\"\\nLänge des Blattes:\", ylang, \"cm +-\", dylang, \"cm\")\n",
    "#b)\n",
    "with open((\"DinA4kurz.csv\")) as file:\n",
    "    txt = file.read()\n",
    "    txt = txt.replace(\",\", \".\")\n",
    "    shortvals = np.genfromtxt(StringIO(txt), skip_header=1000, delimiter=\";\", usecols=(1,))\n",
    "\n",
    "\n",
    "print(\"\\nVertrauensbereich 68%, kurze Seite\")\n",
    "x_2, dx2 = schaetzwert(shortvals, 1.09) #Vertrauensbereich 68% und n = 7\n",
    "print(\"\\nVertrauensbereich 95%, kurze Seite\")\n",
    "schaetzwert(shortvals, 2.45) #Vertraunsbereich 95% und n = 7"
   ],
   "metadata": {
    "collapsed": false,
    "pycharm": {
     "name": "#%%\n"
    }
   }
  },
  {
   "cell_type": "markdown",
   "source": [
    "<body style=\"font-family:courier;\">\n",
    "<h3>Teil 3: Flächenmessung mit Fehlerrechnung (b)</h3>\n",
    "<pre>\n",
    "<body style=\"font-family:courier;\">\n",
    "------------------------------------------------------------------------------------------\n",
    "Flächenmessung: Zur Ermittlung der Fläche eines DIN A4-Blattes messen Sie nun nach\n",
    "derselben Methode wie in Aufgabe 3 a die Breite des Blattes aus. Berechnen Sie daraus\n",
    "Ihre Schätzung für die Fläche des Blattes und geben Sie Ihr Messergebnis korrekt mit Ihrer\n",
    "Schätzung des Messfehlers an. Benutzen Sie dazu das Gaußsche Fehlerfortpflanzungsgesetz\n",
    "aus der Vorlesung\n",
    "------------------------------------------------------------------------------------------\n",
    "</pre>"
   ],
   "metadata": {
    "collapsed": false,
    "pycharm": {
     "name": "#%% md\n"
    }
   }
  },
  {
   "cell_type": "code",
   "execution_count": 22,
   "outputs": [
    {
     "name": "stdout",
     "output_type": "stream",
     "text": [
      "Vertrauensbereich 68%, kurze Seite\n",
      "x =  0.8926286571428573 +- 0.002911981714285708\n",
      "\n",
      "Vertrauensbereich 95%, kurze Seite\n",
      "x =  0.8926286571428573 +- 0.006545279999999986\n",
      "\n",
      "Breite des Blattes: 21.760081936125204 cm +- 0.110106040821326 cm\n",
      "\n",
      "Fläche:  632.3655675557368 +- 3.997367533860461 cm\n"
     ]
    }
   ],
   "source": [
    "with open((\"DinA4kurz.csv\")) as file:\n",
    "    txt = file.read()\n",
    "    txt = txt.replace(\",\", \".\")\n",
    "    shortvals = np.genfromtxt(StringIO(txt), skip_header=1000, delimiter=\";\", usecols=(1,))\n",
    "\n",
    "\n",
    "print(\"Vertrauensbereich 68%, kurze Seite\")\n",
    "x_2b, dx2b = schaetzwert(shortvals, 1.09) #Vertrauensbereich 68% und n = 7\n",
    "print(\"\\nVertrauensbereich 95%, kurze Seite\")\n",
    "schaetzwert(shortvals, 2.45) #Vertraunsbereich 95% und n = 7\n",
    "\n",
    "#Fehlerfortpflanzung: Berechnung mit dy = f'(x) * dx\n",
    "ablf = stg * np.exp(b) * x_2b ** (stg - 1) # Ableitung von f(x) = e^b * x^a, f'(x) = e^b * a * x^(a-1)\n",
    "dykurz = abs(ablf * dx2b)\n",
    "ykurz = np.exp(b) * x_2b ** stg\n",
    "print(\"\\nBreite des Blattes:\", ykurz, \"cm +-\", dykurz, \"cm\")\n",
    "\n",
    "#Berechnung Fläche des Blattes\n",
    "#Formel: a = langeSeite * kurzeSeite\n",
    "a = ylang * ykurz\n",
    "da = np.sqrt((ylang * dykurz) ** 2 + (ykurz * dykurz) ** 2) #Benutzung der partiellen Ableitung auf die Länge und Breite\n",
    "print(\"\\nFläche: \", a , \"+-\", da, \"cm\")"
   ],
   "metadata": {
    "collapsed": false,
    "pycharm": {
     "name": "#%%\n"
    }
   }
  },
  {
   "cell_type": "markdown",
   "source": [
    "<body style=\"font-family:courier;\">\n",
    "<h3>Fläche des A4 Blattes mit Berechnung über Entfernungsmesser: 632 cm^2 (+/- 4 cm Fehlertoleranz)</h3>\n",
    "\n",
    "<body style=\"font-family:courier;\">\n",
    "<h4>Berechnung über Laenge: 29 cm  - und Breite: 21 cm </h4>\n",
    "<body style=\"font-family:courier;\">\n",
    "<h4>Werte stimmen mit den tatsächlichen Werten eines DinA4-Blattes bis auf den Milimeter überein</h4>"
   ],
   "metadata": {
    "collapsed": false,
    "pycharm": {
     "name": "#%% md\n"
    }
   }
  }
 ],
 "metadata": {
  "kernelspec": {
   "display_name": "Python 3",
   "language": "python",
   "name": "python3"
  },
  "language_info": {
   "codemirror_mode": {
    "name": "ipython",
    "version": 3
   },
   "file_extension": ".py",
   "mimetype": "text/x-python",
   "name": "python",
   "nbconvert_exporter": "python",
   "pygments_lexer": "ipython3",
   "version": "3.8.8"
  }
 },
 "nbformat": 4,
 "nbformat_minor": 1
}